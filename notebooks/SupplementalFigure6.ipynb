{
 "cells": [
  {
   "cell_type": "code",
   "execution_count": 1,
   "id": "e0ed3c17",
   "metadata": {},
   "outputs": [
    {
     "name": "stderr",
     "output_type": "stream",
     "text": [
      "/mnt/home/kanaomar/miniconda3/lib/python3.9/site-packages/numba/np/ufunc/parallel.py:365: NumbaWarning: \u001b[1mThe TBB threading layer requires TBB version 2019.5 or later i.e., TBB_INTERFACE_VERSION >= 11005. Found TBB_INTERFACE_VERSION = 6103. The TBB threading layer is disabled.\u001b[0m\n",
      "  warnings.warn(problem)\n",
      "OMP: Info #273: omp_set_nested routine deprecated, please use omp_set_max_active_levels instead.\n"
     ]
    }
   ],
   "source": [
    "#Create Access to my code\n",
    "import sys\n",
    "sys.path.insert(1, '../vidr/')\n",
    "\n",
    "#Import hte vaedr functions we have created\n",
    "from vidr import VIDR\n",
    "from PCAEval import PCAEval\n",
    "from utils import *\n",
    "\n",
    "#Import important modules\n",
    "import scanpy as sc\n",
    "import scgen as scg\n",
    "import pandas as pd\n",
    "import numpy as np\n",
    "import torch\n",
    "import seaborn as sns\n",
    "from scipy import stats\n",
    "from scipy import linalg\n",
    "from scipy import spatial\n",
    "from anndata import AnnData\n",
    "from scipy import sparse\n",
    "from statannotations.Annotator import Annotator\n",
    "from matplotlib import pyplot as plt\n",
    "\n",
    "import warnings\n",
    "warnings.filterwarnings(\"ignore\")\n",
    "\n",
    "sc.set_figure_params(dpi = 150, frameon = True)\n",
    "sns.set_style(\"dark\")\n",
    "sc.settings.figdir = \"../figures\""
   ]
  },
  {
   "cell_type": "code",
   "execution_count": 7,
   "id": "37961ec3",
   "metadata": {},
   "outputs": [],
   "source": [
    "adata = sc.read_h5ad(\"../data/srivatsan2020.h5ad\")"
   ]
  },
  {
   "cell_type": "markdown",
   "id": "40340e8d",
   "metadata": {},
   "source": [
    "To see how the dataframes are generated, see the supplemental figure 4 notebook."
   ]
  },
  {
   "cell_type": "code",
   "execution_count": 2,
   "id": "a6547fef",
   "metadata": {},
   "outputs": [],
   "source": [
    "test_drugs = np.loadtxt(\"../data/srivatsan2020_testDrugList.txt\", dtype = str, delimiter=\"\\t\")"
   ]
  },
  {
   "cell_type": "code",
   "execution_count": 3,
   "id": "4f87066e",
   "metadata": {},
   "outputs": [],
   "source": [
    "df_list = []\n",
    "doses = [0.0, 10.0, 100.0, 1000.0, 10000.0]\n",
    "for idx, drug in enumerate(test_drugs):\n",
    "    for d in doses[1:]:\n",
    "        df = pd.read_csv(f\"../data/Sciplex3_VAEArith_{d}_{drug}.csv\")\n",
    "        df[\"drug\"] = drug\n",
    "        df_list.append(df)\n",
    "for idx, drug in enumerate(test_drugs):\n",
    "    for d in doses[1:]:\n",
    "        df = pd.read_csv(f\"../data/Sciplex3_scVIDR_{d}_{drug}.csv\")\n",
    "        df[\"drug\"] = drug\n",
    "        df_list.append(df)"
   ]
  },
  {
   "cell_type": "code",
   "execution_count": 4,
   "id": "5741ed60",
   "metadata": {},
   "outputs": [],
   "source": [
    "df_full = pd.concat(df_list)"
   ]
  },
  {
   "cell_type": "code",
   "execution_count": 5,
   "id": "6cc729ec",
   "metadata": {},
   "outputs": [],
   "source": [
    "df_full[\"Dose\"] = df_full[\"Dose\"].astype(str)"
   ]
  },
  {
   "cell_type": "code",
   "execution_count": 8,
   "id": "3b3e62ab",
   "metadata": {},
   "outputs": [],
   "source": [
    "pathway_dict = {drug:pathway for drug, pathway in zip(adata.obs[\"product_name\"], adata.obs[\"pathway\"])}"
   ]
  },
  {
   "cell_type": "code",
   "execution_count": null,
   "id": "e5e247bb",
   "metadata": {},
   "outputs": [],
   "source": []
  }
 ],
 "metadata": {
  "kernelspec": {
   "display_name": "Python 3 (ipykernel)",
   "language": "python",
   "name": "python3"
  },
  "language_info": {
   "codemirror_mode": {
    "name": "ipython",
    "version": 3
   },
   "file_extension": ".py",
   "mimetype": "text/x-python",
   "name": "python",
   "nbconvert_exporter": "python",
   "pygments_lexer": "ipython3",
   "version": "3.9.12"
  }
 },
 "nbformat": 4,
 "nbformat_minor": 5
}
