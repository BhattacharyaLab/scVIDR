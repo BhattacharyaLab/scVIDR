{
 "cells": [
  {
   "cell_type": "code",
   "execution_count": 1,
   "id": "eb191998-0851-4182-8112-743021e67681",
   "metadata": {},
   "outputs": [
    {
     "data": {
      "text/plain": [
       "'/scVIDR'"
      ]
     },
     "execution_count": 1,
     "metadata": {},
     "output_type": "execute_result"
    }
   ],
   "source": [
    "pwd"
   ]
  },
  {
   "cell_type": "code",
   "execution_count": 9,
   "id": "e17e6120-4cec-4fc5-9098-56df2998ce5c",
   "metadata": {},
   "outputs": [
    {
     "name": "stdout",
     "output_type": "stream",
     "text": [
      "total 56\n",
      "drwxr-xr-x   2 root root 4096 Jan 28  2024 \u001b[0m\u001b[01;34mhome\u001b[0m/\n",
      "drwxr-xr-x   2 root root 4096 Jan 28  2024 \u001b[01;34mboot\u001b[0m/\n",
      "drwxr-xr-x   1 root root 4096 Mar 11  2024 \u001b[01;34mvar\u001b[0m/\n",
      "drwxr-xr-x   1 root root 4096 Mar 11  2024 \u001b[01;34musr\u001b[0m/\n",
      "drwxr-xr-x   2 root root 4096 Mar 11  2024 \u001b[01;34msrv\u001b[0m/\n",
      "lrwxrwxrwx   1 root root    8 Mar 11  2024 \u001b[01;36msbin\u001b[0m -> \u001b[01;34musr/sbin\u001b[0m/\n",
      "drwxr-xr-x   3 root root 4096 Mar 11  2024 \u001b[01;34mrun\u001b[0m/\n",
      "drwxr-xr-x   2 root root 4096 Mar 11  2024 \u001b[01;34mopt\u001b[0m/\n",
      "drwxr-xr-x   2 root root 4096 Mar 11  2024 \u001b[01;34mmnt\u001b[0m/\n",
      "drwxr-xr-x   2 root root 4096 Mar 11  2024 \u001b[01;34mmedia\u001b[0m/\n",
      "lrwxrwxrwx   1 root root    7 Mar 11  2024 \u001b[01;36mlib\u001b[0m -> \u001b[01;34musr/lib\u001b[0m/\n",
      "lrwxrwxrwx   1 root root    7 Mar 11  2024 \u001b[01;36mbin\u001b[0m -> \u001b[01;34musr/bin\u001b[0m/\n",
      "drwxr-xr-x   1 root root 4096 Nov 22 21:19 \u001b[01;34metc\u001b[0m/\n",
      "dr-xr-xr-x  11 root root    0 Nov 22 21:19 \u001b[01;34msys\u001b[0m/\n",
      "dr-xr-xr-x 282 root root    0 Nov 22 21:19 \u001b[01;34mproc\u001b[0m/\n",
      "drwxr-xr-x   5 root root  360 Nov 22 21:19 \u001b[01;34mdev\u001b[0m/\n",
      "drwx------   1 root root 4096 Nov 22 21:19 \u001b[01;34mroot\u001b[0m/\n",
      "drwxr-xr-x   4 root root  128 Nov 22 21:20 \u001b[01;34mscVIDR\u001b[0m/\n",
      "drwxrwxrwt   1 root root 4096 Nov 22 21:20 \u001b[30;42mtmp\u001b[0m/\n"
     ]
    }
   ],
   "source": [
    "ls -lrt ../"
   ]
  },
  {
   "cell_type": "code",
   "execution_count": 3,
   "id": "bff5354e-83f5-43c0-b85f-b13da8bed780",
   "metadata": {},
   "outputs": [
    {
     "name": "stdout",
     "output_type": "stream",
     "text": [
      "[Errno 2] No such file or directory: 'scVIDR'\n",
      "/scVIDR\n"
     ]
    },
    {
     "name": "stderr",
     "output_type": "stream",
     "text": [
      "/usr/local/lib/python3.9/site-packages/IPython/core/magics/osm.py:393: UserWarning: using bookmarks requires you to install the `pickleshare` library.\n",
      "  bkms = self.shell.db.get('bookmarks', {})\n"
     ]
    }
   ],
   "source": []
  },
  {
   "cell_type": "code",
   "execution_count": null,
   "id": "a0172d6d-d2a8-46db-b792-6f2e8c1df8e5",
   "metadata": {},
   "outputs": [],
   "source": []
  }
 ],
 "metadata": {
  "kernelspec": {
   "display_name": "Python 3 (ipykernel)",
   "language": "python",
   "name": "python3"
  },
  "language_info": {
   "codemirror_mode": {
    "name": "ipython",
    "version": 3
   },
   "file_extension": ".py",
   "mimetype": "text/x-python",
   "name": "python",
   "nbconvert_exporter": "python",
   "pygments_lexer": "ipython3",
   "version": "3.9.18"
  }
 },
 "nbformat": 4,
 "nbformat_minor": 5
}
